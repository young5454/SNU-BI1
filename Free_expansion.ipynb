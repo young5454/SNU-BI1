{
 "cells": [
  {
   "cell_type": "markdown",
   "metadata": {},
   "source": [
    "# 2024-1 SNU-BI1 : Free Expansion : GO analysis of LIN28A targets [240526]\n",
    "Script to conduct GO analysis of LIN28A target proteins and create figure similar to Fig.5A"
   ]
  },
  {
   "cell_type": "markdown",
   "metadata": {},
   "source": [
    "### 1. Set working directory and import libraries"
   ]
  },
  {
   "cell_type": "code",
   "execution_count": 12,
   "metadata": {},
   "outputs": [
    {
     "name": "stdout",
     "output_type": "stream",
     "text": [
      "/Users/kimhoeyeong/Desktop/SNU 2024-1/SNU-BI1/Data/Data\n"
     ]
    }
   ],
   "source": [
    "# Make workding directory\n",
    "!pwd\n",
    "!mkdir -p \"./Data/FreeExpansion/\""
   ]
  },
  {
   "cell_type": "code",
   "execution_count": 9,
   "metadata": {},
   "outputs": [
    {
     "name": "stdout",
     "output_type": "stream",
     "text": [
      "/Users/kimhoeyeong/Desktop/SNU 2024-1/SNU-BI1/Data\n"
     ]
    },
    {
     "name": "stderr",
     "output_type": "stream",
     "text": [
      "/opt/anaconda3/envs/snubi1/lib/python3.9/site-packages/IPython/core/magics/osm.py:417: UserWarning: using dhist requires you to install the `pickleshare` library.\n",
      "  self.shell.db['dhist'] = compress_dhist(dhist)[-100:]\n"
     ]
    }
   ],
   "source": [
    "%cd ./Data"
   ]
  },
  {
   "cell_type": "code",
   "execution_count": 3,
   "metadata": {},
   "outputs": [],
   "source": [
    "# Data directory\n",
    "datadir = \"./binfo1-datapack1/\""
   ]
  },
  {
   "cell_type": "code",
   "execution_count": 1,
   "metadata": {},
   "outputs": [],
   "source": [
    "# Import libraries\n",
    "import pandas\n",
    "import numpy as np\n",
    "import matplotlib.pyplot as plt"
   ]
  },
  {
   "cell_type": "code",
   "execution_count": 2,
   "metadata": {},
   "outputs": [
    {
     "name": "stdout",
     "output_type": "stream",
     "text": [
      "Channels:\n",
      " - bioconda\n",
      " - conda-forge\n",
      " - defaults\n",
      "Platform: osx-64\n",
      "Collecting package metadata (repodata.json): done\n",
      "Solving environment: done\n",
      "\n",
      "# All requested packages already installed.\n",
      "\n"
     ]
    }
   ],
   "source": [
    "# Install FeatureCounts\n",
    "!conda install bioconda::subread"
   ]
  },
  {
   "cell_type": "markdown",
   "metadata": {},
   "source": [
    "### 2. Make Gene-count table"
   ]
  },
  {
   "cell_type": "code",
   "execution_count": 10,
   "metadata": {},
   "outputs": [
    {
     "name": "stdout",
     "output_type": "stream",
     "text": [
      "\n",
      "       \u001b[44;37m ========== \u001b[0m\u001b[36m    _____ _    _ ____  _____  ______          _____  \n",
      "       \u001b[44;37m =====      \u001b[0m\u001b[36m   / ____| |  | |  _ \\|  __ \\|  ____|   /\\   |  __ \\ \n",
      "       \u001b[44;37m   =====    \u001b[0m\u001b[36m  | (___ | |  | | |_) | |__) | |__     /  \\  | |  | |\n",
      "       \u001b[44;37m     ====   \u001b[0m\u001b[36m   \\___ \\| |  | |  _ <|  _  /|  __|   / /\\ \\ | |  | |\n",
      "       \u001b[44;37m       ==== \u001b[0m\u001b[36m   ____) | |__| | |_) | | \\ \\| |____ / ____ \\| |__| |\n",
      "       \u001b[44;37m ========== \u001b[0m\u001b[36m  |_____/ \\____/|____/|_|  \\_\\______/_/    \\_\\_____/\u001b[0m\n",
      "\t  v2.0.6\n",
      "\n",
      "//==========================\u001b[36m featureCounts setting \u001b[0m===========================\\\\\n",
      "||  \u001b[0m                                                                          ||\n",
      "||             Input files : \u001b[36m6 BAM files  \u001b[0m \u001b[0m                                   ||\n",
      "||  \u001b[0m                                                                          ||\n",
      "||                           \u001b[36mCLIP-35L33G.bam\u001b[0m \u001b[0m                                 ||\n",
      "||                           \u001b[36mRNA-control.bam\u001b[0m \u001b[0m                                 ||\n",
      "||                           \u001b[36mRNA-siLin28a.bam\u001b[0m \u001b[0m                                ||\n",
      "||                           \u001b[36mRNA-siLuc.bam\u001b[0m \u001b[0m                                   ||\n",
      "||                           \u001b[36mRPF-siLin28a.bam\u001b[0m \u001b[0m                                ||\n",
      "||                           \u001b[36mRPF-siLuc.bam\u001b[0m \u001b[0m                                   ||\n",
      "||  \u001b[0m                                                                          ||\n",
      "||             Output file : \u001b[36mraw.counts.txt\u001b[0m \u001b[0m                                  ||\n",
      "||                 Summary : \u001b[36mraw.counts.txt.summary\u001b[0m \u001b[0m                          ||\n",
      "||              Paired-end : \u001b[36mno\u001b[0m \u001b[0m                                              ||\n",
      "||        Count read pairs : \u001b[36mno\u001b[0m \u001b[0m                                              ||\n",
      "||              Annotation : \u001b[36mgencode.gtf (GTF)\u001b[0m \u001b[0m                               ||\n",
      "||      Dir for temp files : \u001b[36m./\u001b[0m \u001b[0m                                              ||\n",
      "||  \u001b[0m                                                                          ||\n",
      "||                 Threads : \u001b[36m1\u001b[0m \u001b[0m                                               ||\n",
      "||                   Level : \u001b[36mmeta-feature level\u001b[0m \u001b[0m                              ||\n",
      "||      Multimapping reads : \u001b[36mnot counted\u001b[0m \u001b[0m                                     ||\n",
      "|| Multi-overlapping reads : \u001b[36mnot counted\u001b[0m \u001b[0m                                     ||\n",
      "||   Min overlapping bases : \u001b[36m1\u001b[0m \u001b[0m                                               ||\n",
      "||  \u001b[0m                                                                          ||\n",
      "\\\\============================================================================//\n",
      "\n",
      "//=================================\u001b[36m Running \u001b[0m==================================\\\\\n",
      "||  \u001b[0m                                                                          ||\n",
      "|| Load annotation file gencode.gtf \u001b[0m... \u001b[0m                                      ||\n",
      "||    Features : \u001b[36m841952\u001b[0m \u001b[0m                                                      ||\n",
      "||    Meta-features : \u001b[36m55359\u001b[0m \u001b[0m                                                  ||\n",
      "||    Chromosomes/contigs : \u001b[36m22\u001b[0m \u001b[0m                                               ||\n",
      "||  \u001b[0m                                                                          ||\n",
      "|| Process BAM file CLIP-35L33G.bam... \u001b[0m                                       ||\n",
      "^C\n",
      "\n",
      "\n",
      "Received a terminal signal. The temporary files were removed.\n"
     ]
    }
   ],
   "source": [
    "# Run FeatureCounts \n",
    "!featureCounts -a binfo1-datapack1/gencode.gtf -o FreeExpansion/raw.counts.txt binfo1-datapack1/*.bam"
   ]
  },
  {
   "cell_type": "code",
   "execution_count": null,
   "metadata": {},
   "outputs": [],
   "source": []
  }
 ],
 "metadata": {
  "kernelspec": {
   "display_name": "snubi1",
   "language": "python",
   "name": "python3"
  },
  "language_info": {
   "codemirror_mode": {
    "name": "ipython",
    "version": 3
   },
   "file_extension": ".py",
   "mimetype": "text/x-python",
   "name": "python",
   "nbconvert_exporter": "python",
   "pygments_lexer": "ipython3",
   "version": "3.9.0"
  }
 },
 "nbformat": 4,
 "nbformat_minor": 2
}
